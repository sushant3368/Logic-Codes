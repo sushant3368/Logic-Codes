{
 "cells": [
  {
   "cell_type": "code",
   "execution_count": 17,
   "id": "3a0ce0e0",
   "metadata": {},
   "outputs": [
    {
     "name": "stdout",
     "output_type": "stream",
     "text": [
      "Enter time in format (HH:MM) : 06:05\n",
      "152.5\n"
     ]
    }
   ],
   "source": [
    "# Q - Find the angle between minute hand and hour hand at the given time.\n",
    "\n",
    "time = input('Enter time in format (HH:MM) : ')\n",
    "\n",
    "hour = int(time[:2]) # extract hour from given time\n",
    "\n",
    "main_angle = hour*30 # hour hand moves 30 degrees each hour\n",
    "\n",
    "minutes = int(time[3:]) # extract minutes from given time\n",
    "\n",
    "req_angle = abs(main_angle - (6*minutes) + (0.5*minutes)) # in 1min minute hand moves 6 degrees and hour moves 0.5 degrees\n",
    "\n",
    "print(req_angle)\n",
    "\n",
    "# here you will get smaller anlge so to get bigger angle subtract it with 360."
   ]
  }
 ],
 "metadata": {
  "kernelspec": {
   "display_name": "Python 3 (ipykernel)",
   "language": "python",
   "name": "python3"
  },
  "language_info": {
   "codemirror_mode": {
    "name": "ipython",
    "version": 3
   },
   "file_extension": ".py",
   "mimetype": "text/x-python",
   "name": "python",
   "nbconvert_exporter": "python",
   "pygments_lexer": "ipython3",
   "version": "3.9.7"
  }
 },
 "nbformat": 4,
 "nbformat_minor": 5
}
