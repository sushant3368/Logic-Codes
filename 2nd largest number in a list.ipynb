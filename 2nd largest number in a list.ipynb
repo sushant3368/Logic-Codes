{
 "cells": [
  {
   "cell_type": "code",
   "execution_count": 1,
   "id": "4e28b5e8",
   "metadata": {},
   "outputs": [
    {
     "name": "stdout",
     "output_type": "stream",
     "text": [
      "21\n"
     ]
    }
   ],
   "source": [
    "# Getting the 2nd largest number in a list.\n",
    "\n",
    "lis = [20,25,11,7,15,3,9,21,19]\n",
    "sorted_lis = []\n",
    "\n",
    "while len(lis) != 0:\n",
    "    min_lis = lis[0]\n",
    "    \n",
    "    for i in range(1,len(lis)):\n",
    "        if lis[i] < min_lis:\n",
    "            min_lis = lis[i]\n",
    "            \n",
    "    sorted_lis.append(min_lis)\n",
    "    lis.remove(min_lis)\n",
    "    \n",
    "print(sorted_lis[-2])"
   ]
  },
  {
   "cell_type": "code",
   "execution_count": null,
   "id": "e556fbcd",
   "metadata": {},
   "outputs": [],
   "source": []
  }
 ],
 "metadata": {
  "kernelspec": {
   "display_name": "Python 3 (ipykernel)",
   "language": "python",
   "name": "python3"
  },
  "language_info": {
   "codemirror_mode": {
    "name": "ipython",
    "version": 3
   },
   "file_extension": ".py",
   "mimetype": "text/x-python",
   "name": "python",
   "nbconvert_exporter": "python",
   "pygments_lexer": "ipython3",
   "version": "3.9.7"
  }
 },
 "nbformat": 4,
 "nbformat_minor": 5
}
