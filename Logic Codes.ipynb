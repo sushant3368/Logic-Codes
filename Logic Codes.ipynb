{
 "cells": [
  {
   "cell_type": "code",
   "execution_count": 17,
   "id": "3a0ce0e0",
   "metadata": {},
   "outputs": [
    {
     "name": "stdout",
     "output_type": "stream",
     "text": [
      "Enter time in format (HH:MM) : 06:05\n",
      "152.5\n"
     ]
    }
   ],
   "source": [
    "# Q - Find the angle between minute hand and hour hand at the given time.\n",
    "\n",
    "time = input('Enter time in format (HH:MM) : ')\n",
    "\n",
    "hour = int(time[:2]) # extract hour from given time\n",
    "\n",
    "main_angle = hour*30 # hour hand moves 30 degrees each hour\n",
    "\n",
    "minutes = int(time[3:]) # extract minutes from given time\n",
    "\n",
    "req_angle = abs(main_angle - (6*minutes) + (0.5*minutes)) # in 1min minute hand moves 6 degrees and hour moves 0.5 degrees\n",
    "\n",
    "print(req_angle)\n",
    "\n",
    "# here you will get smaller anlge so to get bigger angle subtract it with 360."
   ]
  },
  {
   "cell_type": "code",
   "execution_count": 13,
   "id": "0369d040",
   "metadata": {},
   "outputs": [
    {
     "name": "stdout",
     "output_type": "stream",
     "text": [
      "21\n"
     ]
    }
   ],
   "source": [
    "# Getting the 2nd largest number in a list.\n",
    "\n",
    "lis = [20,25,11,7,15,3,9,21,19]\n",
    "sorted_lis = []\n",
    "\n",
    "while len(lis) != 0:\n",
    "    min_lis = lis[0]\n",
    "    \n",
    "    for i in range(1,len(lis)):\n",
    "        if lis[i] < min_lis:\n",
    "            min_lis = lis[i]\n",
    "            \n",
    "    sorted_lis.append(min_lis)\n",
    "    lis.remove(min_lis)\n",
    "    \n",
    "print(sorted_lis[-2])"
   ]
  },
  {
   "cell_type": "code",
   "execution_count": null,
   "id": "e2910add",
   "metadata": {},
   "outputs": [],
   "source": []
  }
 ],
 "metadata": {
  "kernelspec": {
   "display_name": "Python 3 (ipykernel)",
   "language": "python",
   "name": "python3"
  },
  "language_info": {
   "codemirror_mode": {
    "name": "ipython",
    "version": 3
   },
   "file_extension": ".py",
   "mimetype": "text/x-python",
   "name": "python",
   "nbconvert_exporter": "python",
   "pygments_lexer": "ipython3",
   "version": "3.9.7"
  }
 },
 "nbformat": 4,
 "nbformat_minor": 5
}
